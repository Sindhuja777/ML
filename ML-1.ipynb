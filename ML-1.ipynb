{
 "cells": [
  {
   "cell_type": "markdown",
   "metadata": {},
   "source": [
    "## Linear Regression :"
   ]
  },
  {
   "cell_type": "markdown",
   "metadata": {},
   "source": [
    "- Regression: In science, we frequently measure two or more variables on the same individual(case,object,etc).\n",
    "    We do this to explore the nature of the relationship among these variables. There are two basic types of relationships.\n",
    "\n",
    "- Cause - and - effect relationships\n",
    "- Functional relationships\n",
    "\n",
    "- One of the easiest statistical models in ML\n",
    "- It is relationship between dependent variable and one more independent variables.\n",
    "\n",
    "## y = mx + c\n",
    "- here y is dependent and x is independent m is slope and c is constant/ y intercept"
   ]
  },
  {
   "cell_type": "code",
   "execution_count": 10,
   "metadata": {},
   "outputs": [],
   "source": [
    "x = [1,2,3,4,5]\n",
    "y = [3,4,2,4,5]\n",
    "xm = sum(x)/len(x)\n",
    "ym = sum(y)/len(y)"
   ]
  },
  {
   "cell_type": "markdown",
   "metadata": {},
   "source": [
    "- m = summation(x-x-mean)(y-y-mean)/summation(x-x-mean)^2"
   ]
  },
  {
   "cell_type": "code",
   "execution_count": 31,
   "metadata": {},
   "outputs": [
    {
     "name": "stdout",
     "output_type": "stream",
     "text": [
      "0.4\n",
      "3.0 3.6\n"
     ]
    }
   ],
   "source": [
    "x = [1,2,3,4,5]\n",
    "y = [3,4,2,4,5]\n",
    "xm = sum(x)/len(x)\n",
    "ym = sum(y)/len(y)\n",
    "u = []\n",
    "l = []\n",
    "for i in range(0,len(x)):\n",
    "    #m1 = x[i] - xm\n",
    "    #m2 = y[i] - ym\n",
    "    #u.append(m1*m2)\n",
    "    #l.append(m1**2)\n",
    "    u.append((x[i] - xm)*(y[i] - ym))\n",
    "    l.append((x[i] - xm)**2)\n",
    "print(sum(u)/sum(l))"
   ]
  },
  {
   "cell_type": "markdown",
   "metadata": {},
   "source": [
    "## c = y-mean - m * x-mean"
   ]
  },
  {
   "cell_type": "markdown",
   "metadata": {},
   "source": [
    "m = 0.4\n",
    "c = ym-(m*xm)\n",
    "for given m = 0.4 & c = 2.4 lets predict values for x = [1,2,3,4,5]\n",
    "y = 0.4 x + 2.4\n",
    "\n",
    "y = 0.4 * 1 +2.4 = 2.8\n",
    "y = 0.4 * 2 +2.4 = 3.2\n",
    "y = 0.4 * 3 +2.4 = 3.6\n",
    "y = 0.4 * 4 +2.4 = 4\n",
    "y = 0.4 * 5 +2.4 = 4.4\n",
    "\n",
    "here first given y values are exact values these 5 vlues predicted y values....\n",
    "\n",
    "for exact values and predicted values two values are matched and 3 - 3.6 and 4 -4 are matched remaing are not matched..."
   ]
  },
  {
   "cell_type": "markdown",
   "metadata": {},
   "source": [
    "### R^2 = summation(yp - y-mean)^2 / summation(y - y-mean)^2"
   ]
  },
  {
   "cell_type": "code",
   "execution_count": 32,
   "metadata": {},
   "outputs": [
    {
     "name": "stdout",
     "output_type": "stream",
     "text": [
      "0.3076923076923078\n"
     ]
    }
   ],
   "source": [
    "# Distance between acutal mean and distace between predicted mean is called R^2\n",
    "m = 0.4\n",
    "c = ym-(m*xm)\n",
    "x = [1,2,3,4,5]\n",
    "y = [3,4,2,4,5]\n",
    "ym = sum(y)/len(y)\n",
    "yp = [] # predicted y values\n",
    "for i in x:\n",
    "    #y = mx+c\n",
    "    yp.append((m*i)+c)\n",
    "u = []\n",
    "l = []\n",
    "for i in range(0,len(y)):\n",
    "    u.append((yp[i] - ym)**2)\n",
    "    l.append((y[i] - ym)**2)\n",
    "print(sum(u)/sum(l)) ## this is R^2 value"
   ]
  },
  {
   "cell_type": "code",
   "execution_count": 34,
   "metadata": {
    "scrolled": true
   },
   "outputs": [
    {
     "data": {
      "image/png": "[encoded data removed]",
      "text/plain": [
       "<Figure size 432x288 with 1 Axes>"
      ]
     },
     "metadata": {
      "needs_background": "light"
     },
     "output_type": "display_data"
    }
   ],
   "source": [
    "import matplotlib.pyplot as plt\n",
    "plt.plot([x,y],[y,yp],'^')\n",
    "plt.show()"
   ]
  },
  {
   "cell_type": "markdown",
   "metadata": {},
   "source": [
    "## Predictions on  Hear Brain DataSet"
   ]
  },
  {
   "cell_type": "code",
   "execution_count": 46,
   "metadata": {},
   "outputs": [],
   "source": [
    "import pandas as pd\n",
    "import numpy as np\n",
    "import matplotlib.pyplot as plt\n",
    "\n",
    "data = pd.read_csv(\"headbrain.csv\")\n",
    "\n",
    "# data"
   ]
  },
  {
   "cell_type": "code",
   "execution_count": 53,
   "metadata": {},
   "outputs": [],
   "source": [
    "# Collecting X and Y\n",
    "x = data['Head Size(cm^3)'].values\n",
    "y = data['Brain Weight(grams)'].values\n",
    "\n",
    "# print(x,y)"
   ]
  },
  {
   "cell_type": "code",
   "execution_count": 55,
   "metadata": {},
   "outputs": [],
   "source": [
    "# Calculating coefficient\n",
    "\n",
    "# mean of x and y\n",
    "\n",
    "                # or\n",
    "#  x_mean = sum(x)/len(x)\n",
    "#  y_mean = sum(y)/len(y)\n",
    "\n",
    "x_mean = np.mean(x)\n",
    "y_mean = np.mean(y)\n",
    "\n",
    "\n",
    "#print(x_mean,y_mean)"
   ]
  },
  {
   "cell_type": "code",
   "execution_count": 65,
   "metadata": {},
   "outputs": [],
   "source": [
    "# Using the formula to calculate b1 and b2\n",
    "numer = 0\n",
    "denom = 0\n",
    "for i in range(len(x)):\n",
    "    numer += (x[i] - x_mean) * (y[i] - y_mean)\n",
    "    denom += (x[i] - x_mean)**2\n",
    "m = numer/denom\n",
    "c = y_mean - (m * x_mean)\n",
    "# print(m,c)    "
   ]
  },
  {
   "cell_type": "code",
   "execution_count": 66,
   "metadata": {},
   "outputs": [
    {
     "name": "stdout",
     "output_type": "stream",
     "text": [
      "Coefficients\n",
      "0.26342933948939945 325.57342104944223\n"
     ]
    }
   ],
   "source": [
    "# Printing Coefficients\n",
    "print(\"Coefficients\")\n",
    "print(m,c)"
   ]
  },
  {
   "cell_type": "code",
   "execution_count": 84,
   "metadata": {},
   "outputs": [
    {
     "data": {
      "image/png": "[encoded data removed]",
      "text/plain": [
       "<Figure size 432x288 with 1 Axes>"
      ]
     },
     "metadata": {
      "needs_background": "light"
     },
     "output_type": "display_data"
    }
   ],
   "source": [
    "# Plotting Values and Regression line\n",
    "\n",
    "x_max = np.max(x) + 100\n",
    "x_min = np.min(x) - 100\n",
    "\n",
    "# Calculating line values x and y\n",
    "\n",
    "X = np.linspace(x_min,x_max,1000)\n",
    "Y = m *X + c\n",
    "\n",
    "# plotting line\n",
    "\n",
    "plt.plot(X,Y,c = 'r',label = 'Regression Line')\n",
    "\n",
    "# Plotting Scatter Plot\n",
    "\n",
    "plt.scatter(x,y,c='g',label = 'Scatter Plot')\n",
    "\n",
    "plt.xlabel(\"Head Size in cm3\")\n",
    "plt.ylabel(\"Brain Weight in grams\")\n",
    "plt.legend()\n",
    "plt.show()"
   ]
  },
  {
   "cell_type": "code",
   "execution_count": 90,
   "metadata": {},
   "outputs": [
    {
     "name": "stdout",
     "output_type": "stream",
     "text": [
      "1218.8623112579958\n",
      "R2 Score:   0.6393117199570003\n"
     ]
    }
   ],
   "source": [
    "# Calculating R2 Score\n",
    "\n",
    "u = 0\n",
    "l = 0\n",
    "for i in range(len(x)):\n",
    "    yp = m * x[i] + c\n",
    "    u += (y[i] - yp)**2\n",
    "    l += (y[i] - y_mean)**2\n",
    "R2 = 1 - (u/l)\n",
    "print(yp)\n",
    "print(\"R2 Score:  \",R2)"
   ]
  },
  {
   "cell_type": "code",
   "execution_count": null,
   "metadata": {},
   "outputs": [],
   "source": []
  }
 ],
 "metadata": {
  "kernelspec": {
   "display_name": "Python 3",
   "language": "python",
   "name": "python3"
  },
  "language_info": {
   "codemirror_mode": {
    "name": "ipython",
    "version": 3
   },
   "file_extension": ".py",
   "mimetype": "text/x-python",
   "name": "python",
   "nbconvert_exporter": "python",
   "pygments_lexer": "ipython3",
   "version": "3.7.4"
  }
 },
 "nbformat": 4,
 "nbformat_minor": 2
}
