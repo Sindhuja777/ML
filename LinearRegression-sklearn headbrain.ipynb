{
 "cells": [
  {
   "cell_type": "code",
   "execution_count": 30,
   "metadata": {},
   "outputs": [],
   "source": [
    "import numpy as np\n",
    "import pandas as pd\n",
    "from sklearn.linear_model import LinearRegression\n",
    "from sklearn.metrics import mean_squared_error\n",
    "\n",
    "# Reading data\n",
    "\n",
    "data = pd.read_csv(\"headbrain.csv\")\n",
    "#data\n",
    "\n",
    "# Collecting x and y\n",
    "\n",
    "x = data['Head Size(cm^3)'].values\n",
    "y = data['Brain Weight(grams)'].values\n",
    "\n",
    "y_mean = sum(y)/len(y)\n",
    "# print(x,y)\n",
    "\n",
    "x = x.reshape((len(x),1)) # here we are reshaping the data to fit for model as 2D array\n",
    "\n",
    "#Model Initialization\n",
    "reg = LinearRegression()\n",
    "\n",
    "# Data Fitting\n",
    "reg = reg.fit(x,y)\n",
    "\n",
    "# y prediction\n",
    "y_predict = reg.predict(x)\n"
   ]
  },
  {
   "cell_type": "code",
   "execution_count": 12,
   "metadata": {},
   "outputs": [],
   "source": [
    "# u = 0\n",
    "# l = 0\n",
    "# for i in range(len(x)):\n",
    "#     u += (y[i] - y_predict[i])**2\n",
    "#     l += (y[i] - y_mean)**2\n",
    "# R2 = 1 - (u/l)\n",
    "# print(\"R2 Score:  \",R2)"
   ]
  },
  {
   "cell_type": "code",
   "execution_count": 33,
   "metadata": {},
   "outputs": [
    {
     "data": {
      "text/plain": [
       "0.639311719957"
      ]
     },
     "execution_count": 33,
     "metadata": {},
     "output_type": "execute_result"
    }
   ],
   "source": [
    "R2 = reg.score(x,y)\n",
    "R2"
   ]
  },
  {
   "cell_type": "code",
   "execution_count": 32,
   "metadata": {},
   "outputs": [
    {
     "data": {
      "text/plain": [
       "array([1642.7201185])"
      ]
     },
     "execution_count": 32,
     "metadata": {},
     "output_type": "execute_result"
    }
   ],
   "source": [
    "y_predict = reg.predict([[5000]])\n",
    "y_predict"
   ]
  },
  {
   "cell_type": "code",
   "execution_count": null,
   "metadata": {},
   "outputs": [],
   "source": []
  }
 ],
 "metadata": {
  "kernelspec": {
   "display_name": "Python 3",
   "language": "python",
   "name": "python3"
  },
  "language_info": {
   "codemirror_mode": {
    "name": "ipython",
    "version": 3
   },
   "file_extension": ".py",
   "mimetype": "text/x-python",
   "name": "python",
   "nbconvert_exporter": "python",
   "pygments_lexer": "ipython3",
   "version": "3.7.4"
  }
 },
 "nbformat": 4,
 "nbformat_minor": 2
}
